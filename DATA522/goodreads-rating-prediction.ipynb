{
 "cells": [
  {
   "cell_type": "code",
   "execution_count": 1,
   "id": "a3c495f9",
   "metadata": {},
   "outputs": [
    {
     "name": "stdout",
     "output_type": "stream",
     "text": [
      "Requirement already satisfied: opendatasets in /opt/anaconda3/lib/python3.9/site-packages (0.1.22)\n",
      "\u001b[31mERROR: Could not find a version that satisfies the requirement as (from versions: none)\u001b[0m\n",
      "\u001b[31mERROR: No matching distribution found for as\u001b[0m\n",
      "Note: you may need to restart the kernel to use updated packages.\n",
      "Requirement already satisfied: sklearn in /opt/anaconda3/lib/python3.9/site-packages (0.0)\n",
      "Requirement already satisfied: scikit-learn in /opt/anaconda3/lib/python3.9/site-packages (from sklearn) (1.0.2)\n",
      "Requirement already satisfied: threadpoolctl>=2.0.0 in /opt/anaconda3/lib/python3.9/site-packages (from scikit-learn->sklearn) (2.2.0)\n",
      "Requirement already satisfied: joblib>=0.11 in /opt/anaconda3/lib/python3.9/site-packages (from scikit-learn->sklearn) (1.1.0)\n",
      "Requirement already satisfied: numpy>=1.14.6 in /opt/anaconda3/lib/python3.9/site-packages (from scikit-learn->sklearn) (1.21.5)\n",
      "Requirement already satisfied: scipy>=1.1.0 in /opt/anaconda3/lib/python3.9/site-packages (from scikit-learn->sklearn) (1.7.3)\n",
      "Note: you may need to restart the kernel to use updated packages.\n"
     ]
    }
   ],
   "source": [
    "%pip install opendatasets as \n",
    "%pip install sklearn"
   ]
  },
  {
   "cell_type": "code",
   "execution_count": 2,
   "id": "8d182aed",
   "metadata": {
    "_cell_guid": "b1076dfc-b9ad-4769-8c92-a6c4dae69d19",
    "_uuid": "8f2839f25d086af736a60e9eeb907d3b93b6e0e5",
    "execution": {
     "iopub.execute_input": "2022-07-29T00:31:58.705185Z",
     "iopub.status.busy": "2022-07-29T00:31:58.704673Z",
     "iopub.status.idle": "2022-07-29T00:31:58.721194Z",
     "shell.execute_reply": "2022-07-29T00:31:58.720063Z"
    },
    "papermill": {
     "duration": 0.023883,
     "end_time": "2022-07-29T00:31:58.723919",
     "exception": false,
     "start_time": "2022-07-29T00:31:58.700036",
     "status": "completed"
    },
    "tags": []
   },
   "outputs": [],
   "source": [
    "# This Python 3 environment comes with many helpful analytics libraries installed\n",
    "# It is defined by the kaggle/python Docker image: https://github.com/kaggle/docker-python\n",
    "# For example, here's several helpful packages to load\n",
    "\n",
    "\n",
    "import opendatasets as od\n",
    "import numpy as np # linear algebra\n",
    "import pandas as pd # data processing, CSV file I/O (e.g. pd.read_csv)\n",
    "from IPython.core.interactiveshell import InteractiveShell\n",
    "InteractiveShell.ast_node_interactivity = \"all\"\n",
    "\n",
    "# Input data files are available in the read-only \"../input/\" directory\n",
    "# For example, running this (by clicking run or pressing Shift+Enter) will list all files under the input directory\n",
    "\n",
    "import os\n",
    "for dirname, _, filenames in os.walk('/kaggle/input'):\n",
    "    for filename in filenames:\n",
    "        print(os.path.join(dirname, filename))\n",
    "\n",
    "# You can write up to 20GB to the current directory (/kaggle/working/) that gets preserved as output when you create a version using \"Save & Run All\" \n",
    "# You can also write temporary files to /kaggle/temp/, but they won't be saved outside of the current session"
   ]
  },
  {
   "cell_type": "code",
   "execution_count": 13,
   "id": "d303413f",
   "metadata": {
    "execution": {
     "iopub.execute_input": "2022-07-29T00:31:58.729895Z",
     "iopub.status.busy": "2022-07-29T00:31:58.729241Z",
     "iopub.status.idle": "2022-07-29T00:32:11.918752Z",
     "shell.execute_reply": "2022-07-29T00:32:11.917580Z"
    },
    "papermill": {
     "duration": 13.194846,
     "end_time": "2022-07-29T00:32:11.921046",
     "exception": false,
     "start_time": "2022-07-29T00:31:58.726200",
     "status": "completed"
    },
    "tags": []
   },
   "outputs": [
    {
     "name": "stdout",
     "output_type": "stream",
     "text": [
      "Skipping, found downloaded files in \"./goodreads-books-reviews-290312\" (use force=True to force download)\n"
     ]
    }
   ],
   "source": [
    "#  Download dataset\n",
    "od.download(\"https://www.kaggle.com/competitions/goodreads-books-reviews-290312/data\")"
   ]
  },
  {
   "cell_type": "code",
   "execution_count": 3,
   "id": "4c39e08d",
   "metadata": {},
   "outputs": [],
   "source": [
    "df = pd.read_csv(\"./goodreads-books-reviews-290312/goodreads_train.csv\")\n",
    "dft = pd.read_csv(\"./goodreads-books-reviews-290312/goodreads_test.csv\")\n",
    "\n",
    "df[['date_added','date_updated','read_at','started_at']] = df[['date_added','date_updated','read_at','started_at']].apply(pd.to_datetime)\n",
    "df ['review_length'] = df['review_text'].str.len()\n",
    "dft ['review_length'] = dft['review_text'].str.len()"
   ]
  },
  {
   "cell_type": "code",
   "execution_count": 4,
   "id": "dfa016b4",
   "metadata": {},
   "outputs": [
    {
     "data": {
      "text/html": [
       "<div>\n",
       "<style scoped>\n",
       "    .dataframe tbody tr th:only-of-type {\n",
       "        vertical-align: middle;\n",
       "    }\n",
       "\n",
       "    .dataframe tbody tr th {\n",
       "        vertical-align: top;\n",
       "    }\n",
       "\n",
       "    .dataframe thead th {\n",
       "        text-align: right;\n",
       "    }\n",
       "</style>\n",
       "<table border=\"1\" class=\"dataframe\">\n",
       "  <thead>\n",
       "    <tr style=\"text-align: right;\">\n",
       "      <th></th>\n",
       "      <th>user_id</th>\n",
       "      <th>book_id</th>\n",
       "      <th>review_id</th>\n",
       "      <th>rating</th>\n",
       "      <th>review_text</th>\n",
       "      <th>date_added</th>\n",
       "      <th>date_updated</th>\n",
       "      <th>read_at</th>\n",
       "      <th>started_at</th>\n",
       "      <th>n_votes</th>\n",
       "      <th>n_comments</th>\n",
       "      <th>review_length</th>\n",
       "      <th>read_duration</th>\n",
       "    </tr>\n",
       "  </thead>\n",
       "  <tbody>\n",
       "    <tr>\n",
       "      <th>0</th>\n",
       "      <td>8842281e1d1347389f2ab93d60773d4d</td>\n",
       "      <td>18245960</td>\n",
       "      <td>dfdbb7b0eb5a7e4c26d59a937e2e5feb</td>\n",
       "      <td>5</td>\n",
       "      <td>This is a special book. It started slow for ab...</td>\n",
       "      <td>2017-07-30 07:44:10-07:00</td>\n",
       "      <td>2017-08-30 00:00:26-07:00</td>\n",
       "      <td>2017-08-26 12:05:52-07:00</td>\n",
       "      <td>2017-08-15 13:23:18-07:00</td>\n",
       "      <td>28</td>\n",
       "      <td>1</td>\n",
       "      <td>2119</td>\n",
       "      <td>10.0</td>\n",
       "    </tr>\n",
       "    <tr>\n",
       "      <th>1</th>\n",
       "      <td>8842281e1d1347389f2ab93d60773d4d</td>\n",
       "      <td>16981</td>\n",
       "      <td>a5d2c3628987712d0e05c4f90798eb67</td>\n",
       "      <td>3</td>\n",
       "      <td>Recommended by Don Katz. Avail for free in Dec...</td>\n",
       "      <td>2016-12-05 10:46:44-08:00</td>\n",
       "      <td>2017-03-22 11:37:04-07:00</td>\n",
       "      <td>NaN</td>\n",
       "      <td>NaN</td>\n",
       "      <td>1</td>\n",
       "      <td>0</td>\n",
       "      <td>93</td>\n",
       "      <td>0.0</td>\n",
       "    </tr>\n",
       "    <tr>\n",
       "      <th>2</th>\n",
       "      <td>8842281e1d1347389f2ab93d60773d4d</td>\n",
       "      <td>28684704</td>\n",
       "      <td>2ede853b14dc4583f96cf5d120af636f</td>\n",
       "      <td>3</td>\n",
       "      <td>A fun, fast paced science fiction thriller. I ...</td>\n",
       "      <td>2016-11-15 11:29:22-08:00</td>\n",
       "      <td>2017-03-20 23:40:27-07:00</td>\n",
       "      <td>2017-03-18 23:22:42-07:00</td>\n",
       "      <td>2017-03-17 23:45:40-07:00</td>\n",
       "      <td>22</td>\n",
       "      <td>0</td>\n",
       "      <td>2598</td>\n",
       "      <td>0.0</td>\n",
       "    </tr>\n",
       "    <tr>\n",
       "      <th>3</th>\n",
       "      <td>8842281e1d1347389f2ab93d60773d4d</td>\n",
       "      <td>27161156</td>\n",
       "      <td>ced5675e55cd9d38a524743f5c40996e</td>\n",
       "      <td>0</td>\n",
       "      <td>Recommended reading to understand what is goin...</td>\n",
       "      <td>2016-11-09 17:37:04-08:00</td>\n",
       "      <td>2016-11-09 17:38:20-08:00</td>\n",
       "      <td>NaN</td>\n",
       "      <td>NaN</td>\n",
       "      <td>5</td>\n",
       "      <td>1</td>\n",
       "      <td>153</td>\n",
       "      <td>0.0</td>\n",
       "    </tr>\n",
       "    <tr>\n",
       "      <th>4</th>\n",
       "      <td>8842281e1d1347389f2ab93d60773d4d</td>\n",
       "      <td>25884323</td>\n",
       "      <td>332732725863131279a8e345b63ac33e</td>\n",
       "      <td>4</td>\n",
       "      <td>I really enjoyed this book, and there is a lot...</td>\n",
       "      <td>2016-04-25 09:31:23-07:00</td>\n",
       "      <td>2016-04-25 09:31:23-07:00</td>\n",
       "      <td>2016-06-26 00:00:00-07:00</td>\n",
       "      <td>2016-05-28 00:00:00-07:00</td>\n",
       "      <td>9</td>\n",
       "      <td>1</td>\n",
       "      <td>4044</td>\n",
       "      <td>29.0</td>\n",
       "    </tr>\n",
       "  </tbody>\n",
       "</table>\n",
       "</div>"
      ],
      "text/plain": [
       "                            user_id   book_id  \\\n",
       "0  8842281e1d1347389f2ab93d60773d4d  18245960   \n",
       "1  8842281e1d1347389f2ab93d60773d4d     16981   \n",
       "2  8842281e1d1347389f2ab93d60773d4d  28684704   \n",
       "3  8842281e1d1347389f2ab93d60773d4d  27161156   \n",
       "4  8842281e1d1347389f2ab93d60773d4d  25884323   \n",
       "\n",
       "                          review_id  rating  \\\n",
       "0  dfdbb7b0eb5a7e4c26d59a937e2e5feb       5   \n",
       "1  a5d2c3628987712d0e05c4f90798eb67       3   \n",
       "2  2ede853b14dc4583f96cf5d120af636f       3   \n",
       "3  ced5675e55cd9d38a524743f5c40996e       0   \n",
       "4  332732725863131279a8e345b63ac33e       4   \n",
       "\n",
       "                                         review_text  \\\n",
       "0  This is a special book. It started slow for ab...   \n",
       "1  Recommended by Don Katz. Avail for free in Dec...   \n",
       "2  A fun, fast paced science fiction thriller. I ...   \n",
       "3  Recommended reading to understand what is goin...   \n",
       "4  I really enjoyed this book, and there is a lot...   \n",
       "\n",
       "                  date_added               date_updated  \\\n",
       "0  2017-07-30 07:44:10-07:00  2017-08-30 00:00:26-07:00   \n",
       "1  2016-12-05 10:46:44-08:00  2017-03-22 11:37:04-07:00   \n",
       "2  2016-11-15 11:29:22-08:00  2017-03-20 23:40:27-07:00   \n",
       "3  2016-11-09 17:37:04-08:00  2016-11-09 17:38:20-08:00   \n",
       "4  2016-04-25 09:31:23-07:00  2016-04-25 09:31:23-07:00   \n",
       "\n",
       "                     read_at                 started_at  n_votes  n_comments  \\\n",
       "0  2017-08-26 12:05:52-07:00  2017-08-15 13:23:18-07:00       28           1   \n",
       "1                        NaN                        NaN        1           0   \n",
       "2  2017-03-18 23:22:42-07:00  2017-03-17 23:45:40-07:00       22           0   \n",
       "3                        NaN                        NaN        5           1   \n",
       "4  2016-06-26 00:00:00-07:00  2016-05-28 00:00:00-07:00        9           1   \n",
       "\n",
       "   review_length  read_duration  \n",
       "0           2119           10.0  \n",
       "1             93            0.0  \n",
       "2           2598            0.0  \n",
       "3            153            0.0  \n",
       "4           4044           29.0  "
      ]
     },
     "execution_count": 4,
     "metadata": {},
     "output_type": "execute_result"
    },
    {
     "data": {
      "text/plain": [
       "11700000"
      ]
     },
     "execution_count": 4,
     "metadata": {},
     "output_type": "execute_result"
    }
   ],
   "source": [
    "\n",
    "df['read_duration'] = (df['read_at'] - df['started_at']).dt.days.fillna(0)\n",
    "\n",
    "df.head()\n",
    "df.size"
   ]
  },
  {
   "cell_type": "code",
   "execution_count": 5,
   "id": "fea96603",
   "metadata": {},
   "outputs": [],
   "source": [
    "Y = df['rating']\n",
    "X = df[['n_votes','n_comments','review_length','read_duration']]"
   ]
  },
  {
   "cell_type": "code",
   "execution_count": 6,
   "id": "8be95bb0",
   "metadata": {},
   "outputs": [
    {
     "data": {
      "text/plain": [
       "LinearRegression()"
      ]
     },
     "execution_count": 6,
     "metadata": {},
     "output_type": "execute_result"
    }
   ],
   "source": [
    "from sklearn import linear_model\n",
    "regr = linear_model.LinearRegression()\n",
    "regr.fit(X,Y)"
   ]
  },
  {
   "cell_type": "code",
   "execution_count": 46,
   "id": "f4ad075d",
   "metadata": {},
   "outputs": [
    {
     "data": {
      "text/html": [
       "<table class=\"simpletable\">\n",
       "<caption>OLS Regression Results</caption>\n",
       "<tr>\n",
       "  <th>Dep. Variable:</th>         <td>rating</td>      <th>  R-squared:         </th>  <td>   0.003</td>  \n",
       "</tr>\n",
       "<tr>\n",
       "  <th>Model:</th>                   <td>OLS</td>       <th>  Adj. R-squared:    </th>  <td>   0.003</td>  \n",
       "</tr>\n",
       "<tr>\n",
       "  <th>Method:</th>             <td>Least Squares</td>  <th>  F-statistic:       </th>  <td>   651.3</td>  \n",
       "</tr>\n",
       "<tr>\n",
       "  <th>Date:</th>             <td>Fri, 05 Aug 2022</td> <th>  Prob (F-statistic):</th>   <td>  0.00</td>   \n",
       "</tr>\n",
       "<tr>\n",
       "  <th>Time:</th>                 <td>09:50:17</td>     <th>  Log-Likelihood:    </th> <td>-1.4784e+06</td>\n",
       "</tr>\n",
       "<tr>\n",
       "  <th>No. Observations:</th>      <td>900000</td>      <th>  AIC:               </th>  <td>2.957e+06</td> \n",
       "</tr>\n",
       "<tr>\n",
       "  <th>Df Residuals:</th>          <td>899995</td>      <th>  BIC:               </th>  <td>2.957e+06</td> \n",
       "</tr>\n",
       "<tr>\n",
       "  <th>Df Model:</th>              <td>     4</td>      <th>                     </th>      <td> </td>     \n",
       "</tr>\n",
       "<tr>\n",
       "  <th>Covariance Type:</th>      <td>nonrobust</td>    <th>                     </th>      <td> </td>     \n",
       "</tr>\n",
       "</table>\n",
       "<table class=\"simpletable\">\n",
       "<tr>\n",
       "        <td></td>           <th>coef</th>     <th>std err</th>      <th>t</th>      <th>P>|t|</th>  <th>[0.025</th>    <th>0.975]</th>  \n",
       "</tr>\n",
       "<tr>\n",
       "  <th>const</th>         <td>    3.6341</td> <td>    0.002</td> <td> 2089.774</td> <td> 0.000</td> <td>    3.631</td> <td>    3.638</td>\n",
       "</tr>\n",
       "<tr>\n",
       "  <th>n_votes</th>       <td>    0.0008</td> <td> 9.48e-05</td> <td>    8.050</td> <td> 0.000</td> <td>    0.001</td> <td>    0.001</td>\n",
       "</tr>\n",
       "<tr>\n",
       "  <th>n_comments</th>    <td>   -0.0041</td> <td>    0.000</td> <td>  -14.275</td> <td> 0.000</td> <td>   -0.005</td> <td>   -0.004</td>\n",
       "</tr>\n",
       "<tr>\n",
       "  <th>review_length</th> <td> 5.304e-05</td> <td> 1.07e-06</td> <td>   49.551</td> <td> 0.000</td> <td> 5.09e-05</td> <td> 5.51e-05</td>\n",
       "</tr>\n",
       "<tr>\n",
       "  <th>read_duration</th> <td> 9.011e-05</td> <td> 2.03e-05</td> <td>    4.450</td> <td> 0.000</td> <td> 5.04e-05</td> <td>    0.000</td>\n",
       "</tr>\n",
       "</table>\n",
       "<table class=\"simpletable\">\n",
       "<tr>\n",
       "  <th>Omnibus:</th>       <td>132006.090</td> <th>  Durbin-Watson:     </th>  <td>   1.553</td> \n",
       "</tr>\n",
       "<tr>\n",
       "  <th>Prob(Omnibus):</th>   <td> 0.000</td>   <th>  Jarque-Bera (JB):  </th> <td>200088.853</td>\n",
       "</tr>\n",
       "<tr>\n",
       "  <th>Skew:</th>            <td>-1.072</td>   <th>  Prob(JB):          </th>  <td>    0.00</td> \n",
       "</tr>\n",
       "<tr>\n",
       "  <th>Kurtosis:</th>        <td> 3.862</td>   <th>  Cond. No.          </th>  <td>2.17e+03</td> \n",
       "</tr>\n",
       "</table><br/><br/>Notes:<br/>[1] Standard Errors assume that the covariance matrix of the errors is correctly specified.<br/>[2] The condition number is large, 2.17e+03. This might indicate that there are<br/>strong multicollinearity or other numerical problems."
      ],
      "text/plain": [
       "<class 'statsmodels.iolib.summary.Summary'>\n",
       "\"\"\"\n",
       "                            OLS Regression Results                            \n",
       "==============================================================================\n",
       "Dep. Variable:                 rating   R-squared:                       0.003\n",
       "Model:                            OLS   Adj. R-squared:                  0.003\n",
       "Method:                 Least Squares   F-statistic:                     651.3\n",
       "Date:                Fri, 05 Aug 2022   Prob (F-statistic):               0.00\n",
       "Time:                        09:50:17   Log-Likelihood:            -1.4784e+06\n",
       "No. Observations:              900000   AIC:                         2.957e+06\n",
       "Df Residuals:                  899995   BIC:                         2.957e+06\n",
       "Df Model:                           4                                         \n",
       "Covariance Type:            nonrobust                                         \n",
       "=================================================================================\n",
       "                    coef    std err          t      P>|t|      [0.025      0.975]\n",
       "---------------------------------------------------------------------------------\n",
       "const             3.6341      0.002   2089.774      0.000       3.631       3.638\n",
       "n_votes           0.0008   9.48e-05      8.050      0.000       0.001       0.001\n",
       "n_comments       -0.0041      0.000    -14.275      0.000      -0.005      -0.004\n",
       "review_length  5.304e-05   1.07e-06     49.551      0.000    5.09e-05    5.51e-05\n",
       "read_duration  9.011e-05   2.03e-05      4.450      0.000    5.04e-05       0.000\n",
       "==============================================================================\n",
       "Omnibus:                   132006.090   Durbin-Watson:                   1.553\n",
       "Prob(Omnibus):                  0.000   Jarque-Bera (JB):           200088.853\n",
       "Skew:                          -1.072   Prob(JB):                         0.00\n",
       "Kurtosis:                       3.862   Cond. No.                     2.17e+03\n",
       "==============================================================================\n",
       "\n",
       "Notes:\n",
       "[1] Standard Errors assume that the covariance matrix of the errors is correctly specified.\n",
       "[2] The condition number is large, 2.17e+03. This might indicate that there are\n",
       "strong multicollinearity or other numerical problems.\n",
       "\"\"\""
      ]
     },
     "execution_count": 46,
     "metadata": {},
     "output_type": "execute_result"
    }
   ],
   "source": [
    "import statsmodels.api as sm\n",
    "X = sm.add_constant(X)\n",
    "model = sm.OLS(Y,X).fit()\n",
    "model.summary()  "
   ]
  },
  {
   "cell_type": "code",
   "execution_count": null,
   "id": "11755075",
   "metadata": {},
   "outputs": [],
   "source": []
  },
  {
   "cell_type": "code",
   "execution_count": 7,
   "id": "2da02790",
   "metadata": {},
   "outputs": [
    {
     "ename": "NameError",
     "evalue": "name 'graphviz' is not defined",
     "output_type": "error",
     "traceback": [
      "\u001b[0;31m---------------------------------------------------------------------------\u001b[0m",
      "\u001b[0;31mNameError\u001b[0m                                 Traceback (most recent call last)",
      "\u001b[1;32m/Users/nguyen_phan/Documents/GitHub/uona-lab/DATA522/goodreads-rating-prediction.ipynb Cell 8\u001b[0m in \u001b[0;36m<cell line: 7>\u001b[0;34m()\u001b[0m\n\u001b[1;32m      <a href='vscode-notebook-cell:/Users/nguyen_phan/Documents/GitHub/uona-lab/DATA522/goodreads-rating-prediction.ipynb#ch0000009?line=2'>3</a>\u001b[0m clf \u001b[39m=\u001b[39m clf\u001b[39m.\u001b[39mfit(X, Y)\n\u001b[1;32m      <a href='vscode-notebook-cell:/Users/nguyen_phan/Documents/GitHub/uona-lab/DATA522/goodreads-rating-prediction.ipynb#ch0000009?line=3'>4</a>\u001b[0m dot_data \u001b[39m=\u001b[39m tree\u001b[39m.\u001b[39mexport_graphviz(clf,\n\u001b[1;32m      <a href='vscode-notebook-cell:/Users/nguyen_phan/Documents/GitHub/uona-lab/DATA522/goodreads-rating-prediction.ipynb#ch0000009?line=4'>5</a>\u001b[0m                      out_file\u001b[39m=\u001b[39m\u001b[39mNone\u001b[39;00m,\n\u001b[1;32m      <a href='vscode-notebook-cell:/Users/nguyen_phan/Documents/GitHub/uona-lab/DATA522/goodreads-rating-prediction.ipynb#ch0000009?line=5'>6</a>\u001b[0m                      filled \u001b[39m=\u001b[39m \u001b[39mTrue\u001b[39;00m)\n\u001b[0;32m----> <a href='vscode-notebook-cell:/Users/nguyen_phan/Documents/GitHub/uona-lab/DATA522/goodreads-rating-prediction.ipynb#ch0000009?line=6'>7</a>\u001b[0m graph \u001b[39m=\u001b[39m graphviz\u001b[39m.\u001b[39mSource(dot_data)\n\u001b[1;32m      <a href='vscode-notebook-cell:/Users/nguyen_phan/Documents/GitHub/uona-lab/DATA522/goodreads-rating-prediction.ipynb#ch0000009?line=7'>8</a>\u001b[0m graph\n",
      "\u001b[0;31mNameError\u001b[0m: name 'graphviz' is not defined"
     ]
    }
   ],
   "source": [
    "from sklearn import tree\n",
    "clf = tree.DecisionTreeClassifier(max_depth=2,random_state=0)\n",
    "clf = clf.fit(X, Y)\n",
    "dot_data = tree.export_graphviz(clf,\n",
    "                     out_file=None,\n",
    "                     filled = True)\n",
    "graph = graphviz.Source(dot_data)\n",
    "graph"
   ]
  }
 ],
 "metadata": {
  "kernelspec": {
   "display_name": "Python 3.9.12 64-bit ('anaconda3')",
   "language": "python",
   "name": "python3"
  },
  "language_info": {
   "codemirror_mode": {
    "name": "ipython",
    "version": 3
   },
   "file_extension": ".py",
   "mimetype": "text/x-python",
   "name": "python",
   "nbconvert_exporter": "python",
   "pygments_lexer": "ipython3",
   "version": "3.9.12"
  },
  "papermill": {
   "default_parameters": {},
   "duration": 24.422694,
   "end_time": "2022-07-29T00:32:12.749903",
   "environment_variables": {},
   "exception": null,
   "input_path": "__notebook__.ipynb",
   "output_path": "__notebook__.ipynb",
   "parameters": {},
   "start_time": "2022-07-29T00:31:48.327209",
   "version": "2.3.4"
  },
  "vscode": {
   "interpreter": {
    "hash": "40d3a090f54c6569ab1632332b64b2c03c39dcf918b08424e98f38b5ae0af88f"
   }
  }
 },
 "nbformat": 4,
 "nbformat_minor": 5
}
